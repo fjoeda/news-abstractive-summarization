{
 "cells": [
  {
   "cell_type": "code",
   "execution_count": 1,
   "metadata": {},
   "outputs": [
    {
     "name": "stderr",
     "output_type": "stream",
     "text": [
      "e:\\miniconda3\\envs\\pytorch_env\\lib\\site-packages\\tqdm\\auto.py:22: TqdmWarning: IProgress not found. Please update jupyter and ipywidgets. See https://ipywidgets.readthedocs.io/en/stable/user_install.html\n",
      "  from .autonotebook import tqdm as notebook_tqdm\n"
     ]
    }
   ],
   "source": [
    "import torch\n",
    "from transformers import AutoTokenizer, AutoModelForSeq2SeqLM\n",
    "\n",
    "tokenizer = AutoTokenizer.from_pretrained(\"./t5-finetune-cnndaily-news\")\n",
    "model = AutoModelForSeq2SeqLM.from_pretrained(\"./t5-finetune-cnndaily-news\")"
   ]
  },
  {
   "cell_type": "code",
   "execution_count": 2,
   "metadata": {},
   "outputs": [],
   "source": [
    "text = \"\"\"The hopes of Argentina and Lionel Messi winning the World Cup remain very much alive after a nerve-shredding penalty shootout victory over the Netherlands in a thrilling match at Qatar 2022.\n",
    "Leading 2-0 with just eight minutes remaining thanks to goals from Nahuel Molina and Messi, the Netherlands staged a stunning comeback as a Wout Weghorst’s brace ensured the game went to extra time.The hopes of Argentina and Lionel Messi winning the World Cup remain very much alive after a nerve-shredding penalty shootout victory over the Netherlands in a thrilling match at Qatar 2022.\n",
    "Spanish referee Mateu Lahoz, known for his eccentricity and enjoyment of the limelight, certainly added to the drama, dishing out an numerous yellow cards, including one in the shootout, as he struggled to keep control of the game.\n",
    "There were no less than three mass brawls throughout the 120 minutes and penalties, the first one sparked by Leandro Paredes smashing a ball straight into the Netherlands dugout at the side of the pitch.\n",
    "It became difficult to keep a track of which players were being disciplined by Lahoz but according to FIFA, 18 yellow cards (two for Dumfries) and one red card were brandished during the quarterfinal.\n",
    "This match will undoubtedly go down as an all-time World Cup classic, but Argentina will quickly need to bring itself down back to earth ahead of the semifinal against knockout specialist Croatia.\n",
    "Millions of Argentines have dreamed of the day Messi emulates the late Diego Maradona and lifts the World Cup. That day is now one step closer.\"\"\""
   ]
  },
  {
   "cell_type": "code",
   "execution_count": 4,
   "metadata": {},
   "outputs": [],
   "source": [
    "model.eval()\n",
    "tokenized_text = tokenizer.encode(text, return_tensors=\"pt\")\n",
    "\n"
   ]
  },
  {
   "cell_type": "code",
   "execution_count": 6,
   "metadata": {},
   "outputs": [
    {
     "data": {
      "text/plain": [
       "tensor([[    0, 17946,    11, 10371,    15,    40,  6598,    23,  1369,     8,\n",
       "          1150,  3802,    16,     3,     9, 24256,  1588,    44, 21936,   460,\n",
       "          2884,     3,     5, 22798,     3, 19423,    28,   131,  2641,   676,\n",
       "          4080,  2049,    12,  1766,    45, 22885,    76,    15,    40,  1290,\n",
       "          8280,    11,  6598,    23,     3,     5, 12023,  1726,    26,     3,\n",
       "             9,  4441,   369,  1549,    38,     3,     9,   549,   670,  5920,\n",
       "           107,   127,     7,    17,    22,     7,  3858,   565,   766,    26,\n",
       "             8,   467,   877,    12,   996,    97,     3,     5,     1]])"
      ]
     },
     "execution_count": 6,
     "metadata": {},
     "output_type": "execute_result"
    }
   ],
   "source": [
    "output_id = model.generate(tokenized_text, max_length = 150)\n",
    "output_id"
   ]
  },
  {
   "cell_type": "code",
   "execution_count": 9,
   "metadata": {},
   "outputs": [
    {
     "data": {
      "text/plain": [
       "'Argentina and Lionel Messi win the World Cup in a thrilling match at Qatar 2022. Leading 2-0 with just eight minutes remaining thanks to goals from Nahuel Molina and Messi. Netherlands staged a stunning comeback as a Wout Weghorst’s brace ensured the game went to extra time.'"
      ]
     },
     "execution_count": 9,
     "metadata": {},
     "output_type": "execute_result"
    }
   ],
   "source": [
    "tokenizer.decode(output_id[0], skip_special_tokens=True)"
   ]
  },
  {
   "cell_type": "code",
   "execution_count": 1,
   "metadata": {},
   "outputs": [],
   "source": [
    "from bs4 import BeautifulSoup\n",
    "import requests\n",
    "\n",
    "url = \"https://edition.cnn.com/2022/12/04/football/england-senegal-qatar-world-cup-spt-intl\"\n",
    "headers = {\n",
    "            \"user-agent\":\"Mozilla/5.0 (Windows NT 10.0; Win64; x64) AppleWebKit/537.36 (KHTML, like Gecko) Chrome/108.0.0.0 Safari/537.36 Edg/108.0.1462.42\"\n",
    "        }\n",
    "content = requests.get(url, headers=headers)\n",
    "soup = BeautifulSoup(content.content, 'html.parser')\n",
    "news_content = \"\" \n",
    "for item in soup.find_all('p')[:20]:\n",
    "    news_content += item.text.strip()\n",
    "\n",
    "news_content = \" \".join(news_content.split()[:450]).replace(\".\",\". \")"
   ]
  },
  {
   "cell_type": "code",
   "execution_count": 3,
   "metadata": {},
   "outputs": [
    {
     "data": {
      "text/plain": [
       "\"Inggris mencapai perempat final Piala Dunia untuk turnamen kedua berturut-turut berkat kemenangan telak 3-0 atas Senegal. Itu adalah awal yang lamban dari The Three Lions, tetapi dua gol cepat dari Jordan Henderson dan Harry Kane di penghujung babak pertama memicu penampilan brilian dan membuat pasukan Gareth Southgate memegang kendali penuh atas pertandingan. Arsene Wenger mengklaim tim yang berfokus pada 'kompetisi' daripada 'demonstrasi politik' tampil lebih baik di Piala Dunia Gol Kane adalah yang ke-11 untuk Inggris di turnamen besar, terbanyak oleh pemain Three Lions mana pun dalam sejarah. Bukayo Saka menambahkan kilau ke garis skor di babak kedua, mengoper bola dengan luar biasa melewati kiper Senegal Edouard Mendy setelah mendapat umpan silang rendah Phil Foden, karena tim Aliou Cissé tidak pernah terlihat seperti kembali ke permainan. Hasil dan performanya sama bagusnya dengan yang dihasilkan Inggris dalam sepak bola sistem gugur di bawah Southgate dan tidak diragukan lagi akan memicu rendisi 'It's Coming Home' di seluruh negeri. Mencapai semifinal Piala Dunia 2018 dan final Euro 2020 telah memberi tim ini pengalaman yang tak ternilai di tahap akhir turnamen sepak bola dan para penggemar berharap kelompok pemain ini akhirnya dapat mengakhiri 56 tahun cedera. Tim Inggris ini tidak diragukan lagi adalah salah satu yang terbaik di turnamen ini dan para pemain akan percaya diri untuk meningkatkan penampilan semifinal mereka di Rusia empat tahun lalu. Penggemar Inggris telah bosan dengan kekecewaan dan patah hati selama bertahun-tahun sejak satu-satunya trofi utama yang dimenangkan negara itu di Piala Dunia 1966, dan sejak mengambil alih sebagai manajer pada tahun 2016, Gareth Southgate telah memberikan harapan baru kepada para pendukung untuk akhirnya mengakhiri perjalanan mandul itu. Namun, menjelang turnamen ini jauh dari ideal, karena Inggris mengalami degradasi dari grup Liga Bangsa-Bangsa dan menerima beberapa kekalahan mengejutkan: yang terburuk, dipukul 4-0 di kandang Hongaria. Tapi tim ini adalah turnamen yang diperkeras, mencapai semifinal dan kemudian final dari dua kompetisi besar terakhirnya, dan para pemain telah menyalakannya saat itu penting. Tidak ada tim yang memperoleh lebih banyak poin atau mencetak lebih banyak gol daripada Inggris selama babak grup dan Southgate memiliki masalah yang patut ditiru untuk mencoba memilih dari banyak bakat menyerang. Mengingat banyaknya pilihan kualitas dalam serangan yang tersedia untuk manajer, mantan pemain internasional Inggris itu kadang-kadang dikritik karena pemilihan dan taktik tim yang konservatif, tetapi itu adalah pendekatan yang sejauh ini telah membantunya dengan baik. Southgate jelas tidak mengubah pendekatan itu di sini dalam 25 menit pembukaan yang sangat cerdik, dan Senegal-lah yang memiliki peluang nyata pertama.\""
      ]
     },
     "execution_count": 3,
     "metadata": {},
     "output_type": "execute_result"
    }
   ],
   "source": [
    "from googletrans import Translator\n",
    "\n",
    "trans = Translator()\n",
    "trans.translate(news_content, dest='id').text\n"
   ]
  }
 ],
 "metadata": {
  "kernelspec": {
   "display_name": "pytorch_env",
   "language": "python",
   "name": "python3"
  },
  "language_info": {
   "codemirror_mode": {
    "name": "ipython",
    "version": 3
   },
   "file_extension": ".py",
   "mimetype": "text/x-python",
   "name": "python",
   "nbconvert_exporter": "python",
   "pygments_lexer": "ipython3",
   "version": "3.10.8"
  },
  "orig_nbformat": 4,
  "vscode": {
   "interpreter": {
    "hash": "43f5b3f4e7d8c5ff3b1185fa2950cb9b082013dbdde7443e6dae0e5b9f0df5df"
   }
  }
 },
 "nbformat": 4,
 "nbformat_minor": 2
}
